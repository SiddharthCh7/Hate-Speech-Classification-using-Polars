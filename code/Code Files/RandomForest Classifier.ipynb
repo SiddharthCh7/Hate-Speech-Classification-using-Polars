{
  "cells": [
    {
      "cell_type": "code",
      "execution_count": null,
      "metadata": {
        "colab": {
          "base_uri": "https://localhost:8080/"
        },
        "id": "FSBEvJCJxp5y",
        "outputId": "d2ea240c-ceb0-46be-99c5-87e8a7ff6804"
      },
      "outputs": [
        {
          "name": "stdout",
          "output_type": "stream",
          "text": [
            "Parquet DataFrame:\n",
            "                                      Vector_Content  Label\n",
            "0  [-0.5991044, 0.14731808, 0.32865947, -0.244333...      1\n",
            "1  [0.10335503, -0.24981976, 0.14990778, 0.367329...      1\n",
            "2  [-0.75803685, 0.8188284, 0.6138587, 0.532273, ...      1\n"
          ]
        },
        {
          "data": {
            "text/plain": [
              "17"
            ]
          },
          "execution_count": 2,
          "metadata": {},
          "output_type": "execute_result"
        }
      ],
      "source": [
        "from azure.storage.blob import BlobServiceClient\n",
        "import pandas as pd\n",
        "import io\n",
        "import json\n",
        "\n",
        "with open(r\"keys.json\", \"r\") as f:\n",
        "    data = json.load(f)\n",
        "\n",
        "connection_string = data.get(\"connection_string_azure\")\n",
        "container_name = \"containerforregular\"\n",
        "csv_blob_name = \"HPC_NEW/final_df/vectorized_df_v1.parquet\"\n",
        "\n",
        "blob_service_client = BlobServiceClient.from_connection_string(connection_string)\n",
        "container_client = blob_service_client.get_container_client(container_name)\n",
        "\n",
        "def download_blob_to_dataframe(blob_name):\n",
        "    blob_client = container_client.get_blob_client(blob_name)\n",
        "    download_stream = blob_client.download_blob()\n",
        "    data = download_stream.readall()\n",
        "    file_like_object = io.BytesIO(data)\n",
        "    df = pd.read_parquet(file_like_object)\n",
        "    del data, file_like_object\n",
        "    return df\n",
        "\n",
        "df = download_blob_to_dataframe(csv_blob_name)\n",
        "print(\"Parquet DataFrame:\")\n",
        "print(df.head(3))\n",
        "\n",
        "import gc\n",
        "gc.collect()"
      ]
    },
    {
      "cell_type": "code",
      "execution_count": null,
      "metadata": {
        "colab": {
          "base_uri": "https://localhost:8080/"
        },
        "id": "eMPT323uL5Co",
        "outputId": "bbee3bd6-5055-4a33-b44d-051de0e16aa3"
      },
      "outputs": [
        {
          "name": "stdout",
          "output_type": "stream",
          "text": [
            "float32\n"
          ]
        }
      ],
      "source": [
        "import numpy as np\n",
        "\n",
        "X = np.array(df[\"Vector_Content\"].tolist(), dtype=np.float32)\n",
        "y = df['Label']\n",
        "\n",
        "print(X.dtype)"
      ]
    },
    {
      "cell_type": "code",
      "execution_count": null,
      "metadata": {
        "id": "zHFer5H9L8GV"
      },
      "outputs": [],
      "source": [
        "from sklearn.model_selection import train_test_split\n",
        "\n",
        "X_train, X_test, y_train, y_test = train_test_split(X, y, test_size=0.2,random_state=42)"
      ]
    },
    {
      "cell_type": "code",
      "execution_count": null,
      "metadata": {
        "colab": {
          "base_uri": "https://localhost:8080/"
        },
        "id": "fODlJOAVGXc1",
        "outputId": "5bb8ae0a-573d-48f1-a5ad-0783ed6119c1"
      },
      "outputs": [
        {
          "name": "stdout",
          "output_type": "stream",
          "text": [
            "              precision    recall  f1-score   support\n",
            "\n",
            "           0       0.87      0.77      0.82     72262\n",
            "           1       0.80      0.88      0.84     72764\n",
            "\n",
            "    accuracy                           0.83    145026\n",
            "   macro avg       0.83      0.83      0.83    145026\n",
            "weighted avg       0.83      0.83      0.83    145026\n",
            "\n"
          ]
        }
      ],
      "source": [
        "from sklearn.ensemble import RandomForestClassifier\n",
        "from sklearn.metrics import classification_report\n",
        "\n",
        "rfc = RandomForestClassifier(n_estimators=400, max_depth=30, min_samples_leaf=1, min_samples_split=2)\n",
        "rfc.fit(X_train, y_train)\n",
        "y_pred_rfc = rfc.predict(X_test)\n",
        "print(classification_report(y_true=y_test, y_pred=y_pred_rfc))"
      ]
    },
    {
      "cell_type": "code",
      "execution_count": null,
      "metadata": {
        "id": "1NRPdWtjzyzq"
      },
      "outputs": [],
      "source": []
    }
  ],
  "metadata": {
    "accelerator": "GPU",
    "colab": {
      "gpuType": "T4",
      "provenance": []
    },
    "kernelspec": {
      "display_name": "Python 3",
      "name": "python3"
    },
    "language_info": {
      "codemirror_mode": {
        "name": "ipython",
        "version": 3
      },
      "file_extension": ".py",
      "mimetype": "text/x-python",
      "name": "python",
      "nbconvert_exporter": "python",
      "pygments_lexer": "ipython3",
      "version": "3.12.4"
    }
  },
  "nbformat": 4,
  "nbformat_minor": 0
}
